{
 "cells": [
  {
   "cell_type": "markdown",
   "metadata": {},
   "source": [
    "# Solution Part III\n",
    "\n",
    "## 0. Basic Steps"
   ]
  },
  {
   "cell_type": "code",
   "execution_count": 1,
   "metadata": {},
   "outputs": [],
   "source": [
    "import pandas as pd\n",
    "import numpy as np\n",
    "import seaborn as sns\n",
    "import matplotlib.pyplot as plt\n",
    "from catboost import CatBoostClassifier\n",
    "from sklearn.linear_model import LogisticRegression, ElasticNet, Lasso\n",
    "from sklearn.model_selection import train_test_split, GridSearchCV, StratifiedKFold\n",
    "from sklearn.metrics import accuracy_score, classification_report, confusion_matrix\n",
    "from sklearn.preprocessing import OneHotEncoder, MinMaxScaler, StandardScaler\n",
    "from sklearn.pipeline import Pipeline, make_pipeline, FeatureUnion\n",
    "from sklearn.base import BaseEstimator, TransformerMixin"
   ]
  },
  {
   "cell_type": "code",
   "execution_count": 2,
   "metadata": {},
   "outputs": [],
   "source": [
    "df = pd.read_csv('clean_data.csv', index_col='user_id')"
   ]
  },
  {
   "cell_type": "code",
   "execution_count": 3,
   "metadata": {},
   "outputs": [],
   "source": [
    "X = df.drop('class',axis=1)\n",
    "y = df['class']\n",
    "\n",
    "X_train, X_test, y_train, y_test = train_test_split(X,y, test_size=100, stratify=y)"
   ]
  },
  {
   "cell_type": "markdown",
   "metadata": {},
   "source": [
    "## 1. First model"
   ]
  },
  {
   "cell_type": "code",
   "execution_count": 4,
   "metadata": {},
   "outputs": [],
   "source": [
    "cat_cols = X_train.columns[X_train.dtypes=='object'].to_list()"
   ]
  },
  {
   "cell_type": "code",
   "execution_count": 5,
   "metadata": {},
   "outputs": [],
   "source": [
    "num_cols = [x for x in X_train.columns if x not in cat_cols]"
   ]
  },
  {
   "cell_type": "code",
   "execution_count": 6,
   "metadata": {},
   "outputs": [],
   "source": [
    "class ColumnSelector(BaseEstimator, TransformerMixin):\n",
    "    def __init__(self, columns):\n",
    "        self.columns = columns\n",
    "    \n",
    "    def transform(self, X, *_):\n",
    "        if isinstance(X, pd.DataFrame):\n",
    "            return pd.DataFrame(X[self.columns])\n",
    "    \n",
    "    def fit(self, X, *_):\n",
    "        return self\n"
   ]
  },
  {
   "cell_type": "code",
   "execution_count": 7,
   "metadata": {},
   "outputs": [],
   "source": [
    "pipe_num = Pipeline(\n",
    "    [\n",
    "        (\"select\", ColumnSelector(num_cols)),\n",
    "        (\"scale\", MinMaxScaler())\n",
    "    ]\n",
    ")"
   ]
  },
  {
   "cell_type": "code",
   "execution_count": 8,
   "metadata": {},
   "outputs": [],
   "source": [
    "pipe_cat = Pipeline(\n",
    "    [\n",
    "        (\"select\", ColumnSelector(cat_cols)),\n",
    "        (\"ohe\", OneHotEncoder(handle_unknown='ignore'))\n",
    "    ]\n",
    ")"
   ]
  },
  {
   "cell_type": "code",
   "execution_count": 9,
   "metadata": {},
   "outputs": [],
   "source": [
    "union = FeatureUnion(\n",
    "    [\n",
    "        (\"numeric\", pipe_num),\n",
    "        (\"categoric\", pipe_cat),\n",
    "    ]\n",
    ")"
   ]
  },
  {
   "cell_type": "code",
   "execution_count": 10,
   "metadata": {},
   "outputs": [],
   "source": [
    "full_pipe = Pipeline(\n",
    "    [\n",
    "        (\"preprocessing\", union),\n",
    "        (\"clf\", None)\n",
    "    ]\n",
    ")"
   ]
  },
  {
   "cell_type": "code",
   "execution_count": 11,
   "metadata": {},
   "outputs": [],
   "source": [
    "param_grid = [\n",
    "#     {\n",
    "#         \"clf\": [ElasticNet()], \n",
    "#         \"clf__alpha\": [np.logspace(-3, 2, 7)], \n",
    "#         \"clf__l1_ratio\": [0.2, 0.5, 0.9]\n",
    "#     },\n",
    "    {\n",
    "        \"clf\": [CatBoostClassifier()],\n",
    "        \"clf__n_estimators\": [50, 200, 500],\n",
    "        \"clf__depth\": [None, 1, 2, 3]\n",
    "    }\n",
    "]"
   ]
  },
  {
   "cell_type": "code",
   "execution_count": 22,
   "metadata": {},
   "outputs": [
    {
     "data": {
      "text/plain": [
       "<catboost.core.CatBoostClassifier at 0x264b6a4bf10>"
      ]
     },
     "execution_count": 22,
     "metadata": {},
     "output_type": "execute_result"
    }
   ],
   "source": [
    "cat = CatBoostClassifier(n_estimators=50, verbose=False)\n",
    "cat.fit(full_pipe.fit_transform(X_train), y_train)"
   ]
  },
  {
   "cell_type": "code",
   "execution_count": 30,
   "metadata": {},
   "outputs": [],
   "source": [
    "y_hat_train = cat.predict(full_pipe.transform(X_train))\n",
    "y_hat_test = cat.predict(full_pipe.transform(X_test))"
   ]
  },
  {
   "cell_type": "code",
   "execution_count": 31,
   "metadata": {},
   "outputs": [
    {
     "name": "stdout",
     "output_type": "stream",
     "text": [
      "              precision    recall  f1-score   support\n",
      "\n",
      "           0       0.99      0.96      0.98       418\n",
      "           1       0.97      0.99      0.98       481\n",
      "\n",
      "    accuracy                           0.98       899\n",
      "   macro avg       0.98      0.98      0.98       899\n",
      "weighted avg       0.98      0.98      0.98       899\n",
      "\n"
     ]
    }
   ],
   "source": [
    "print(classification_report(y_train, y_hat_train))"
   ]
  },
  {
   "cell_type": "code",
   "execution_count": 32,
   "metadata": {},
   "outputs": [
    {
     "name": "stdout",
     "output_type": "stream",
     "text": [
      "              precision    recall  f1-score   support\n",
      "\n",
      "           0       0.76      0.83      0.79        46\n",
      "           1       0.84      0.78      0.81        54\n",
      "\n",
      "    accuracy                           0.80       100\n",
      "   macro avg       0.80      0.80      0.80       100\n",
      "weighted avg       0.80      0.80      0.80       100\n",
      "\n"
     ]
    }
   ],
   "source": [
    "print(classification_report(y_test, y_hat_test))"
   ]
  },
  {
   "cell_type": "code",
   "execution_count": 45,
   "metadata": {},
   "outputs": [],
   "source": [
    "known_cols = [x for x in X_train.columns[:-4]]\n",
    "cat_cols_names =  [f'cat_{i}' for i in range(len(cat.feature_names_)-len(known_cols))] \n",
    "\n",
    "features = pd.Series(cat.feature_importances_, index=known_cols + cat_cols_names).sort_values(ascending=False)"
   ]
  },
  {
   "cell_type": "code",
   "execution_count": 47,
   "metadata": {},
   "outputs": [
    {
     "data": {
      "text/plain": [
       "<AxesSubplot:>"
      ]
     },
     "execution_count": 47,
     "metadata": {},
     "output_type": "execute_result"
    },
    {
     "data": {
      "image/png": "[encoded data removed]",
      "text/plain": [
       "<Figure size 1440x1008 with 1 Axes>"
      ]
     },
     "metadata": {
      "needs_background": "light"
     },
     "output_type": "display_data"
    }
   ],
   "source": [
    "plt.figure(figsize=(20,14))\n",
    "sns.barplot(x=features.values, y=features.index)"
   ]
  },
  {
   "cell_type": "markdown",
   "metadata": {},
   "source": [
    "### Thoughts\n",
    "- I know I shouldn't go for a Gradient Boosting model as my first choice, but I did it due to the time constraints and ease of use.\n",
    "- The model in question is currently overfitting a bit, but I will still use it for answering the questions asked.\n",
    "- Most of the categorical features appear to be useless, and the ones that seem to be useful might be due to the previously mentioned overfit."
   ]
  },
  {
   "cell_type": "markdown",
   "metadata": {},
   "source": [
    "## 2. Answering the questions\n",
    "**Meaningless disclaimer:** This is the first time I work with this kind of data and much of the time I spent researching how to define the metrics, interest rates, amounts, etc. That being said, I found this metric on the web, so credits to the author.\n",
    "\n",
    "You can find the original article here:\n",
    "https://www.listendata.com/2019/07/KS-Statistics-Python.html"
   ]
  },
  {
   "cell_type": "code",
   "execution_count": 48,
   "metadata": {},
   "outputs": [],
   "source": [
    "def ks(data=None,target=None, prob=None):\n",
    "    data['target0'] = 1 - data[target]\n",
    "    data['bucket'] = pd.qcut(data[prob], 10)\n",
    "    grouped = data.groupby('bucket', as_index = False)\n",
    "    kstable = pd.DataFrame()\n",
    "    kstable['min_prob'] = grouped.min()[prob]\n",
    "    kstable['max_prob'] = grouped.max()[prob]\n",
    "    kstable['events']   = grouped.sum()[target]\n",
    "    kstable['nonevents'] = grouped.sum()['target0']\n",
    "    kstable = kstable.sort_values(by=\"min_prob\", ascending=False).reset_index(drop = True)\n",
    "    kstable['event_rate'] = (kstable.events / data[target].sum()).apply('{0:.2%}'.format)\n",
    "    kstable['nonevent_rate'] = (kstable.nonevents / data['target0'].sum()).apply('{0:.2%}'.format)\n",
    "    kstable['cum_eventrate']=(kstable.events / data[target].sum()).cumsum()\n",
    "    kstable['cum_noneventrate']=(kstable.nonevents / data['target0'].sum()).cumsum()\n",
    "    kstable['KS'] = np.round(kstable['cum_eventrate']-kstable['cum_noneventrate'], 3) * 100\n",
    "\n",
    "    #Formating\n",
    "    kstable['cum_eventrate']= kstable['cum_eventrate'].apply('{0:.2%}'.format)\n",
    "    kstable['cum_noneventrate']= kstable['cum_noneventrate'].apply('{0:.2%}'.format)\n",
    "    kstable.index = range(1,11)\n",
    "    kstable.index.rename('Decile', inplace=True)\n",
    "    pd.set_option('display.max_columns', 9)\n",
    "    print(kstable)\n",
    "    \n",
    "    #Display KS\n",
    "    from colorama import Fore\n",
    "    print(Fore.RED + \"KS is \" + str(max(kstable['KS']))+\"%\"+ \" at decile \" + str((kstable.index[kstable['KS']==max(kstable['KS'])][0])))\n",
    "    return(kstable)"
   ]
  },
  {
   "cell_type": "code",
   "execution_count": 57,
   "metadata": {},
   "outputs": [],
   "source": [
    "y_proba = pd.DataFrame(cat.predict_proba(full_pipe.transform(X_train)), columns=['bad', 'good'], index=X_train.index)\n",
    "y_proba = pd.concat([y_proba, y_train], axis=1)"
   ]
  },
  {
   "cell_type": "code",
   "execution_count": 61,
   "metadata": {},
   "outputs": [
    {
     "name": "stdout",
     "output_type": "stream",
     "text": [
      "        min_prob  max_prob  events  nonevents event_rate nonevent_rate  \\\n",
      "Decile                                                                   \n",
      "1       0.981564  0.999687      90          0     18.71%         0.00%   \n",
      "2       0.957714  0.981282      90          0     18.71%         0.00%   \n",
      "3       0.921072  0.957455      90          0     18.71%         0.00%   \n",
      "4       0.848770  0.920845      89          1     18.50%         0.24%   \n",
      "5       0.714081  0.848582      86          3     17.88%         0.72%   \n",
      "6       0.260465  0.713956      36         54      7.48%        12.92%   \n",
      "7       0.104583  0.258661       0         90      0.00%        21.53%   \n",
      "8       0.043283  0.102436       0         90      0.00%        21.53%   \n",
      "9       0.013457  0.043094       0         90      0.00%        21.53%   \n",
      "10      0.000557  0.013424       0         90      0.00%        21.53%   \n",
      "\n",
      "       cum_eventrate cum_noneventrate    KS  \n",
      "Decile                                       \n",
      "1             18.71%            0.00%  18.7  \n",
      "2             37.42%            0.00%  37.4  \n",
      "3             56.13%            0.00%  56.1  \n",
      "4             74.64%            0.24%  74.4  \n",
      "5             92.52%            0.96%  91.6  \n",
      "6            100.00%           13.88%  86.1  \n",
      "7            100.00%           35.41%  64.6  \n",
      "8            100.00%           56.94%  43.1  \n",
      "9            100.00%           78.47%  21.5  \n",
      "10           100.00%          100.00%   0.0  \n",
      "\u001b[31mKS is 91.60000000000001% at decile 5\n"
     ]
    },
    {
     "data": {
      "text/html": [
       "<div>\n",
       "<style scoped>\n",
       "    .dataframe tbody tr th:only-of-type {\n",
       "        vertical-align: middle;\n",
       "    }\n",
       "\n",
       "    .dataframe tbody tr th {\n",
       "        vertical-align: top;\n",
       "    }\n",
       "\n",
       "    .dataframe thead th {\n",
       "        text-align: right;\n",
       "    }\n",
       "</style>\n",
       "<table border=\"1\" class=\"dataframe\">\n",
       "  <thead>\n",
       "    <tr style=\"text-align: right;\">\n",
       "      <th></th>\n",
       "      <th>min_prob</th>\n",
       "      <th>max_prob</th>\n",
       "      <th>events</th>\n",
       "      <th>nonevents</th>\n",
       "      <th>event_rate</th>\n",
       "      <th>nonevent_rate</th>\n",
       "      <th>cum_eventrate</th>\n",
       "      <th>cum_noneventrate</th>\n",
       "      <th>KS</th>\n",
       "    </tr>\n",
       "    <tr>\n",
       "      <th>Decile</th>\n",
       "      <th></th>\n",
       "      <th></th>\n",
       "      <th></th>\n",
       "      <th></th>\n",
       "      <th></th>\n",
       "      <th></th>\n",
       "      <th></th>\n",
       "      <th></th>\n",
       "      <th></th>\n",
       "    </tr>\n",
       "  </thead>\n",
       "  <tbody>\n",
       "    <tr>\n",
       "      <th>1</th>\n",
       "      <td>0.981564</td>\n",
       "      <td>0.999687</td>\n",
       "      <td>90</td>\n",
       "      <td>0</td>\n",
       "      <td>18.71%</td>\n",
       "      <td>0.00%</td>\n",
       "      <td>18.71%</td>\n",
       "      <td>0.00%</td>\n",
       "      <td>18.7</td>\n",
       "    </tr>\n",
       "    <tr>\n",
       "      <th>2</th>\n",
       "      <td>0.957714</td>\n",
       "      <td>0.981282</td>\n",
       "      <td>90</td>\n",
       "      <td>0</td>\n",
       "      <td>18.71%</td>\n",
       "      <td>0.00%</td>\n",
       "      <td>37.42%</td>\n",
       "      <td>0.00%</td>\n",
       "      <td>37.4</td>\n",
       "    </tr>\n",
       "    <tr>\n",
       "      <th>3</th>\n",
       "      <td>0.921072</td>\n",
       "      <td>0.957455</td>\n",
       "      <td>90</td>\n",
       "      <td>0</td>\n",
       "      <td>18.71%</td>\n",
       "      <td>0.00%</td>\n",
       "      <td>56.13%</td>\n",
       "      <td>0.00%</td>\n",
       "      <td>56.1</td>\n",
       "    </tr>\n",
       "    <tr>\n",
       "      <th>4</th>\n",
       "      <td>0.848770</td>\n",
       "      <td>0.920845</td>\n",
       "      <td>89</td>\n",
       "      <td>1</td>\n",
       "      <td>18.50%</td>\n",
       "      <td>0.24%</td>\n",
       "      <td>74.64%</td>\n",
       "      <td>0.24%</td>\n",
       "      <td>74.4</td>\n",
       "    </tr>\n",
       "    <tr>\n",
       "      <th>5</th>\n",
       "      <td>0.714081</td>\n",
       "      <td>0.848582</td>\n",
       "      <td>86</td>\n",
       "      <td>3</td>\n",
       "      <td>17.88%</td>\n",
       "      <td>0.72%</td>\n",
       "      <td>92.52%</td>\n",
       "      <td>0.96%</td>\n",
       "      <td>91.6</td>\n",
       "    </tr>\n",
       "    <tr>\n",
       "      <th>6</th>\n",
       "      <td>0.260465</td>\n",
       "      <td>0.713956</td>\n",
       "      <td>36</td>\n",
       "      <td>54</td>\n",
       "      <td>7.48%</td>\n",
       "      <td>12.92%</td>\n",
       "      <td>100.00%</td>\n",
       "      <td>13.88%</td>\n",
       "      <td>86.1</td>\n",
       "    </tr>\n",
       "    <tr>\n",
       "      <th>7</th>\n",
       "      <td>0.104583</td>\n",
       "      <td>0.258661</td>\n",
       "      <td>0</td>\n",
       "      <td>90</td>\n",
       "      <td>0.00%</td>\n",
       "      <td>21.53%</td>\n",
       "      <td>100.00%</td>\n",
       "      <td>35.41%</td>\n",
       "      <td>64.6</td>\n",
       "    </tr>\n",
       "    <tr>\n",
       "      <th>8</th>\n",
       "      <td>0.043283</td>\n",
       "      <td>0.102436</td>\n",
       "      <td>0</td>\n",
       "      <td>90</td>\n",
       "      <td>0.00%</td>\n",
       "      <td>21.53%</td>\n",
       "      <td>100.00%</td>\n",
       "      <td>56.94%</td>\n",
       "      <td>43.1</td>\n",
       "    </tr>\n",
       "    <tr>\n",
       "      <th>9</th>\n",
       "      <td>0.013457</td>\n",
       "      <td>0.043094</td>\n",
       "      <td>0</td>\n",
       "      <td>90</td>\n",
       "      <td>0.00%</td>\n",
       "      <td>21.53%</td>\n",
       "      <td>100.00%</td>\n",
       "      <td>78.47%</td>\n",
       "      <td>21.5</td>\n",
       "    </tr>\n",
       "    <tr>\n",
       "      <th>10</th>\n",
       "      <td>0.000557</td>\n",
       "      <td>0.013424</td>\n",
       "      <td>0</td>\n",
       "      <td>90</td>\n",
       "      <td>0.00%</td>\n",
       "      <td>21.53%</td>\n",
       "      <td>100.00%</td>\n",
       "      <td>100.00%</td>\n",
       "      <td>0.0</td>\n",
       "    </tr>\n",
       "  </tbody>\n",
       "</table>\n",
       "</div>"
      ],
      "text/plain": [
       "        min_prob  max_prob  events  nonevents event_rate nonevent_rate  \\\n",
       "Decile                                                                   \n",
       "1       0.981564  0.999687      90          0     18.71%         0.00%   \n",
       "2       0.957714  0.981282      90          0     18.71%         0.00%   \n",
       "3       0.921072  0.957455      90          0     18.71%         0.00%   \n",
       "4       0.848770  0.920845      89          1     18.50%         0.24%   \n",
       "5       0.714081  0.848582      86          3     17.88%         0.72%   \n",
       "6       0.260465  0.713956      36         54      7.48%        12.92%   \n",
       "7       0.104583  0.258661       0         90      0.00%        21.53%   \n",
       "8       0.043283  0.102436       0         90      0.00%        21.53%   \n",
       "9       0.013457  0.043094       0         90      0.00%        21.53%   \n",
       "10      0.000557  0.013424       0         90      0.00%        21.53%   \n",
       "\n",
       "       cum_eventrate cum_noneventrate    KS  \n",
       "Decile                                       \n",
       "1             18.71%            0.00%  18.7  \n",
       "2             37.42%            0.00%  37.4  \n",
       "3             56.13%            0.00%  56.1  \n",
       "4             74.64%            0.24%  74.4  \n",
       "5             92.52%            0.96%  91.6  \n",
       "6            100.00%           13.88%  86.1  \n",
       "7            100.00%           35.41%  64.6  \n",
       "8            100.00%           56.94%  43.1  \n",
       "9            100.00%           78.47%  21.5  \n",
       "10           100.00%          100.00%   0.0  "
      ]
     },
     "execution_count": 61,
     "metadata": {},
     "output_type": "execute_result"
    }
   ],
   "source": [
    "ks(y_proba, target='class', prob='good')"
   ]
  },
  {
   "cell_type": "code",
   "execution_count": null,
   "metadata": {},
   "outputs": [],
   "source": []
  }
 ],
 "metadata": {
  "kernelspec": {
   "display_name": "Python 3",
   "language": "python",
   "name": "python3"
  },
  "language_info": {
   "codemirror_mode": {
    "name": "ipython",
    "version": 3
   },
   "file_extension": ".py",
   "mimetype": "text/x-python",
   "name": "python",
   "nbconvert_exporter": "python",
   "pygments_lexer": "ipython3",
   "version": "3.8.5"
  }
 },
 "nbformat": 4,
 "nbformat_minor": 4
}
